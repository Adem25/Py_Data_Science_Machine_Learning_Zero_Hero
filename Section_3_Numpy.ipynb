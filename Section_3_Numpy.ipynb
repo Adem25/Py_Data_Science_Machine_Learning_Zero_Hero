{
 "cells": [
  {
   "cell_type": "code",
   "execution_count": 1,
   "id": "3a3e8e61",
   "metadata": {},
   "outputs": [],
   "source": [
    "import numpy as np"
   ]
  },
  {
   "cell_type": "code",
   "execution_count": 2,
   "id": "a621f79e",
   "metadata": {},
   "outputs": [
    {
     "name": "stdout",
     "output_type": "stream",
     "text": [
      "[[[1 2 3]]]\n"
     ]
    }
   ],
   "source": [
    "threeDarray = np.array([[[1,2,3]]])\n",
    "print(threeDarray)"
   ]
  },
  {
   "cell_type": "code",
   "execution_count": 7,
   "id": "ea9656bc",
   "metadata": {},
   "outputs": [
    {
     "name": "stdout",
     "output_type": "stream",
     "text": [
      "3\n",
      "2\n"
     ]
    }
   ],
   "source": [
    "print(threeDarray.ndim)\n",
    "print(threeDarray[0][0][1])"
   ]
  },
  {
   "cell_type": "code",
   "execution_count": 8,
   "id": "4f58ff2e",
   "metadata": {},
   "outputs": [
    {
     "name": "stdout",
     "output_type": "stream",
     "text": [
      "2\n"
     ]
    }
   ],
   "source": [
    "print(threeDarray[0,0,1])"
   ]
  },
  {
   "cell_type": "code",
   "execution_count": 9,
   "id": "7ceed1c6",
   "metadata": {},
   "outputs": [
    {
     "name": "stdout",
     "output_type": "stream",
     "text": [
      "(1, 1, 3)\n"
     ]
    }
   ],
   "source": [
    "print(threeDarray.shape)"
   ]
  },
  {
   "cell_type": "code",
   "execution_count": 11,
   "id": "fd977380",
   "metadata": {},
   "outputs": [
    {
     "name": "stdout",
     "output_type": "stream",
     "text": [
      "1\n",
      "2\n",
      "3\n"
     ]
    }
   ],
   "source": [
    "for i in threeDarray:\n",
    "    for j in i:\n",
    "        for k in j:\n",
    "            print(k)"
   ]
  },
  {
   "cell_type": "code",
   "execution_count": 12,
   "id": "6de8854c",
   "metadata": {},
   "outputs": [
    {
     "name": "stdout",
     "output_type": "stream",
     "text": [
      "[0. 0. 0. 0. 0. 0. 0. 0. 0. 0.]\n"
     ]
    }
   ],
   "source": [
    "zerosArray = np.zeros(10)\n",
    "print(zerosArray)"
   ]
  },
  {
   "cell_type": "code",
   "execution_count": 13,
   "id": "9b716934",
   "metadata": {},
   "outputs": [
    {
     "name": "stdout",
     "output_type": "stream",
     "text": [
      "[0. 0. 0. 0. 0. 0. 0. 0. 0. 0.]\n"
     ]
    }
   ],
   "source": [
    "onesArray = np.ones(10)\n",
    "print(zerosArray)"
   ]
  },
  {
   "cell_type": "code",
   "execution_count": 14,
   "id": "08b840d3",
   "metadata": {},
   "outputs": [
    {
     "name": "stdout",
     "output_type": "stream",
     "text": [
      "[1 1 1 1 1 1 1 1 1 1]\n"
     ]
    }
   ],
   "source": [
    "onesArray = onesArray.astype(int)\n",
    "print(onesArray)"
   ]
  },
  {
   "cell_type": "code",
   "execution_count": 16,
   "id": "f2850e82",
   "metadata": {},
   "outputs": [
    {
     "name": "stdout",
     "output_type": "stream",
     "text": [
      "[5 5 5 5 5 5 5 5 5 5]\n"
     ]
    }
   ],
   "source": [
    "preFilledArray = np.full(10,5)\n",
    "print(preFilledArray)"
   ]
  },
  {
   "cell_type": "code",
   "execution_count": 25,
   "id": "10a352f0",
   "metadata": {},
   "outputs": [
    {
     "name": "stdout",
     "output_type": "stream",
     "text": [
      "[[1 2 3]\n",
      " [4 5 6]]\n"
     ]
    }
   ],
   "source": [
    "matrix = np.array([[1,2,3,], [4,5,6]])\n",
    "pyList = [[1,2,3],[1,2,3]]\n",
    "print(matrix)"
   ]
  },
  {
   "cell_type": "code",
   "execution_count": 26,
   "id": "3edae21c",
   "metadata": {},
   "outputs": [
    {
     "name": "stdout",
     "output_type": "stream",
     "text": [
      "[[3 4 5]\n",
      " [6 7 8]]\n"
     ]
    }
   ],
   "source": [
    "print (matrix + 2) # with list it will throw error"
   ]
  },
  {
   "cell_type": "code",
   "execution_count": 27,
   "id": "7e9482e3",
   "metadata": {},
   "outputs": [
    {
     "name": "stdout",
     "output_type": "stream",
     "text": [
      "[[-1  0  1]\n",
      " [ 2  3  4]]\n"
     ]
    }
   ],
   "source": [
    "print (matrix - 2) # with list it will throw error"
   ]
  },
  {
   "cell_type": "code",
   "execution_count": 28,
   "id": "84cc4ded",
   "metadata": {},
   "outputs": [
    {
     "name": "stdout",
     "output_type": "stream",
     "text": [
      "[[ 2  4  6]\n",
      " [ 8 10 12]]\n"
     ]
    }
   ],
   "source": [
    "print (matrix * 2)"
   ]
  },
  {
   "cell_type": "code",
   "execution_count": 29,
   "id": "376d7664",
   "metadata": {},
   "outputs": [
    {
     "name": "stdout",
     "output_type": "stream",
     "text": [
      "[[1, 2, 3], [1, 2, 3], [1, 2, 3], [1, 2, 3]]\n"
     ]
    }
   ],
   "source": [
    "print (pyList * 2)"
   ]
  },
  {
   "cell_type": "code",
   "execution_count": 30,
   "id": "4b060f18",
   "metadata": {},
   "outputs": [
    {
     "name": "stdout",
     "output_type": "stream",
     "text": [
      "[[0.5 1.  1.5]\n",
      " [2.  2.5 3. ]]\n"
     ]
    }
   ],
   "source": [
    "print (matrix / 2)"
   ]
  },
  {
   "cell_type": "code",
   "execution_count": 31,
   "id": "30a830b7",
   "metadata": {},
   "outputs": [
    {
     "name": "stdout",
     "output_type": "stream",
     "text": [
      "[[0 1 1]\n",
      " [2 2 3]]\n"
     ]
    }
   ],
   "source": [
    "print (matrix // 2)"
   ]
  },
  {
   "cell_type": "code",
   "execution_count": 33,
   "id": "9fae7134",
   "metadata": {},
   "outputs": [
    {
     "ename": "TypeError",
     "evalue": "unsupported operand type(s) for /: 'list' and 'int'",
     "output_type": "error",
     "traceback": [
      "\u001b[1;31m---------------------------------------------------------------------------\u001b[0m",
      "\u001b[1;31mTypeError\u001b[0m                                 Traceback (most recent call last)",
      "Cell \u001b[1;32mIn[33], line 1\u001b[0m\n\u001b[1;32m----> 1\u001b[0m \u001b[38;5;28mprint\u001b[39m (pyList \u001b[38;5;241m/\u001b[39m \u001b[38;5;241m2\u001b[39m)\n",
      "\u001b[1;31mTypeError\u001b[0m: unsupported operand type(s) for /: 'list' and 'int'"
     ]
    }
   ],
   "source": [
    "print (pyList / 2)"
   ]
  },
  {
   "cell_type": "code",
   "execution_count": 34,
   "id": "fa85aec0",
   "metadata": {},
   "outputs": [
    {
     "name": "stdout",
     "output_type": "stream",
     "text": [
      "[[ 1  4  9]\n",
      " [16 25 36]]\n"
     ]
    }
   ],
   "source": [
    "print (matrix ** 2)"
   ]
  },
  {
   "cell_type": "code",
   "execution_count": 35,
   "id": "ffb45db8",
   "metadata": {},
   "outputs": [
    {
     "name": "stdout",
     "output_type": "stream",
     "text": [
      "[[1 4]\n",
      " [2 5]\n",
      " [3 6]]\n"
     ]
    }
   ],
   "source": [
    "print (matrix.T)"
   ]
  },
  {
   "cell_type": "code",
   "execution_count": 54,
   "id": "bf12bf75",
   "metadata": {},
   "outputs": [],
   "source": [
    "matrix1 = np.array([[1,2,3],[4,5,6],[0,0,0]])\n",
    "matrix2 = np.array([[-1,-2,-3],[-4,-5,-6],[0,0,0]])"
   ]
  },
  {
   "cell_type": "code",
   "execution_count": 55,
   "id": "cf0fbbc2",
   "metadata": {},
   "outputs": [
    {
     "name": "stdout",
     "output_type": "stream",
     "text": [
      "[[0 0 0]\n",
      " [0 0 0]\n",
      " [0 0 0]]\n"
     ]
    }
   ],
   "source": [
    "print(matrix1 + matrix2)"
   ]
  },
  {
   "cell_type": "code",
   "execution_count": 56,
   "id": "d79730e2",
   "metadata": {},
   "outputs": [
    {
     "name": "stdout",
     "output_type": "stream",
     "text": [
      "[[ 2  4  6]\n",
      " [ 8 10 12]\n",
      " [ 0  0  0]]\n"
     ]
    }
   ],
   "source": [
    "print(matrix1 - matrix2)"
   ]
  },
  {
   "cell_type": "code",
   "execution_count": 57,
   "id": "bf980864",
   "metadata": {},
   "outputs": [
    {
     "name": "stdout",
     "output_type": "stream",
     "text": [
      "[[ -1  -4  -9]\n",
      " [-16 -25 -36]\n",
      " [  0   0   0]]\n"
     ]
    }
   ],
   "source": [
    "print(matrix1 * matrix2)"
   ]
  },
  {
   "cell_type": "code",
   "execution_count": 58,
   "id": "c9b2df8d",
   "metadata": {},
   "outputs": [
    {
     "name": "stdout",
     "output_type": "stream",
     "text": [
      "[[-1. -1. -1.]\n",
      " [-1. -1. -1.]\n",
      " [nan nan nan]]\n"
     ]
    },
    {
     "name": "stderr",
     "output_type": "stream",
     "text": [
      "C:\\Users\\Adem_\\AppData\\Local\\Temp\\ipykernel_1444\\2290127727.py:1: RuntimeWarning: invalid value encountered in divide\n",
      "  print(matrix1 / matrix2)\n"
     ]
    }
   ],
   "source": [
    "print(matrix1 / matrix2)"
   ]
  },
  {
   "cell_type": "code",
   "execution_count": 59,
   "id": "2c8f9957",
   "metadata": {},
   "outputs": [
    {
     "name": "stdout",
     "output_type": "stream",
     "text": [
      "[[-1 -1 -1]\n",
      " [-1 -1 -1]\n",
      " [ 0  0  0]]\n"
     ]
    },
    {
     "name": "stderr",
     "output_type": "stream",
     "text": [
      "C:\\Users\\Adem_\\AppData\\Local\\Temp\\ipykernel_1444\\232832599.py:1: RuntimeWarning: divide by zero encountered in floor_divide\n",
      "  print(matrix1 // matrix2)\n"
     ]
    }
   ],
   "source": [
    "print(matrix1 // matrix2)"
   ]
  },
  {
   "cell_type": "code",
   "execution_count": 60,
   "id": "f9d8959a",
   "metadata": {},
   "outputs": [
    {
     "data": {
      "text/plain": [
       "array([[ -9, -12, -15],\n",
       "       [-24, -33, -42],\n",
       "       [  0,   0,   0]])"
      ]
     },
     "execution_count": 60,
     "metadata": {},
     "output_type": "execute_result"
    }
   ],
   "source": [
    "np.matmul(matrix1,matrix2) # Matrix multiplication"
   ]
  },
  {
   "cell_type": "code",
   "execution_count": 61,
   "id": "a899b8c4",
   "metadata": {},
   "outputs": [
    {
     "data": {
      "text/plain": [
       "0"
      ]
     },
     "execution_count": 61,
     "metadata": {},
     "output_type": "execute_result"
    }
   ],
   "source": [
    "np.min(matrix1)"
   ]
  },
  {
   "cell_type": "code",
   "execution_count": 62,
   "id": "79041173",
   "metadata": {},
   "outputs": [
    {
     "data": {
      "text/plain": [
       "6"
      ]
     },
     "execution_count": 62,
     "metadata": {},
     "output_type": "execute_result"
    }
   ],
   "source": [
    "np.max(matrix1)"
   ]
  },
  {
   "cell_type": "code",
   "execution_count": 63,
   "id": "892f2e01",
   "metadata": {},
   "outputs": [
    {
     "data": {
      "text/plain": [
       "21"
      ]
     },
     "execution_count": 63,
     "metadata": {},
     "output_type": "execute_result"
    }
   ],
   "source": [
    "np.sum(matrix1)"
   ]
  },
  {
   "cell_type": "code",
   "execution_count": 64,
   "id": "9c69e334",
   "metadata": {},
   "outputs": [
    {
     "data": {
      "text/plain": [
       "2.3333333333333335"
      ]
     },
     "execution_count": 64,
     "metadata": {},
     "output_type": "execute_result"
    }
   ],
   "source": [
    "np.mean(matrix1)"
   ]
  },
  {
   "cell_type": "code",
   "execution_count": 65,
   "id": "9381d781",
   "metadata": {},
   "outputs": [
    {
     "data": {
      "text/plain": [
       "2.160246899469287"
      ]
     },
     "execution_count": 65,
     "metadata": {},
     "output_type": "execute_result"
    }
   ],
   "source": [
    "np.std(matrix1)"
   ]
  },
  {
   "cell_type": "code",
   "execution_count": 66,
   "id": "7f66f9d4",
   "metadata": {},
   "outputs": [
    {
     "data": {
      "text/plain": [
       "2.0"
      ]
     },
     "execution_count": 66,
     "metadata": {},
     "output_type": "execute_result"
    }
   ],
   "source": [
    "np.median(matrix1)"
   ]
  },
  {
   "cell_type": "code",
   "execution_count": null,
   "id": "9cfe24ad",
   "metadata": {},
   "outputs": [],
   "source": []
  }
 ],
 "metadata": {
  "kernelspec": {
   "display_name": "Python 3 (ipykernel)",
   "language": "python",
   "name": "python3"
  },
  "language_info": {
   "codemirror_mode": {
    "name": "ipython",
    "version": 3
   },
   "file_extension": ".py",
   "mimetype": "text/x-python",
   "name": "python",
   "nbconvert_exporter": "python",
   "pygments_lexer": "ipython3",
   "version": "3.11.5"
  }
 },
 "nbformat": 4,
 "nbformat_minor": 5
}
